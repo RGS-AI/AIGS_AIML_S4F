{
 "cells": [
  {
   "cell_type": "markdown",
   "id": "f9a6c9ea-efd6-46ce-bedb-fd0581e4ec11",
   "metadata": {},
   "source": [
    "int: 0, 1, 3....\n",
    "float: 34.5, 25.236\n",
    "bool: True or False\n",
    "Str: X = \"Welcome to S4F Training\" - object\n",
    "complex: 3 + 4j"
   ]
  },
  {
   "cell_type": "code",
   "execution_count": 1,
   "id": "cbd94a5f-fedb-4318-b682-83a1cf2f6a54",
   "metadata": {},
   "outputs": [
    {
     "data": {
      "text/plain": [
       "['India', 1947, 'Delhi', 200]"
      ]
     },
     "execution_count": 1,
     "metadata": {},
     "output_type": "execute_result"
    }
   ],
   "source": [
    "x = [\"India\", 1947, \"Delhi\", 200]\n",
    "x"
   ]
  },
  {
   "cell_type": "code",
   "execution_count": 2,
   "id": "fb46e0a7-ad36-48a5-9612-8b0d40471c0a",
   "metadata": {
    "scrolled": true
   },
   "outputs": [
    {
     "data": {
      "text/plain": [
       "['__add__',\n",
       " '__class__',\n",
       " '__class_getitem__',\n",
       " '__contains__',\n",
       " '__delattr__',\n",
       " '__delitem__',\n",
       " '__dir__',\n",
       " '__doc__',\n",
       " '__eq__',\n",
       " '__format__',\n",
       " '__ge__',\n",
       " '__getattribute__',\n",
       " '__getitem__',\n",
       " '__getstate__',\n",
       " '__gt__',\n",
       " '__hash__',\n",
       " '__iadd__',\n",
       " '__imul__',\n",
       " '__init__',\n",
       " '__init_subclass__',\n",
       " '__iter__',\n",
       " '__le__',\n",
       " '__len__',\n",
       " '__lt__',\n",
       " '__mul__',\n",
       " '__ne__',\n",
       " '__new__',\n",
       " '__reduce__',\n",
       " '__reduce_ex__',\n",
       " '__repr__',\n",
       " '__reversed__',\n",
       " '__rmul__',\n",
       " '__setattr__',\n",
       " '__setitem__',\n",
       " '__sizeof__',\n",
       " '__str__',\n",
       " '__subclasshook__',\n",
       " 'append',\n",
       " 'clear',\n",
       " 'copy',\n",
       " 'count',\n",
       " 'extend',\n",
       " 'index',\n",
       " 'insert',\n",
       " 'pop',\n",
       " 'remove',\n",
       " 'reverse',\n",
       " 'sort']"
      ]
     },
     "execution_count": 2,
     "metadata": {},
     "output_type": "execute_result"
    }
   ],
   "source": [
    "dir(list)"
   ]
  },
  {
   "cell_type": "code",
   "execution_count": 3,
   "id": "afa83ac8-b28e-4ee3-8484-f0413423b84e",
   "metadata": {},
   "outputs": [
    {
     "data": {
      "text/plain": [
       "['India', 1947, 'Delhi', 200, 'Karnataka']"
      ]
     },
     "execution_count": 3,
     "metadata": {},
     "output_type": "execute_result"
    }
   ],
   "source": [
    "x.append(\"Karnataka\")\n",
    "x"
   ]
  },
  {
   "cell_type": "code",
   "execution_count": 4,
   "id": "31be11ab-f383-46ab-bc6f-9443802da04f",
   "metadata": {},
   "outputs": [
    {
     "data": {
      "text/plain": [
       "['Independence', 'India', 1947, 'Delhi', 200, 'Karnataka']"
      ]
     },
     "execution_count": 4,
     "metadata": {},
     "output_type": "execute_result"
    }
   ],
   "source": [
    "x.insert(0, \"Independence\")\n",
    "x"
   ]
  },
  {
   "cell_type": "code",
   "execution_count": 5,
   "id": "54ad56c2-91cf-4473-97bf-b85ae5e8a241",
   "metadata": {},
   "outputs": [
    {
     "data": {
      "text/plain": [
       "['Karnataka', 200, 'Delhi', 1947, 'India', 'Independence']"
      ]
     },
     "execution_count": 5,
     "metadata": {},
     "output_type": "execute_result"
    }
   ],
   "source": [
    "x.reverse()\n",
    "x"
   ]
  },
  {
   "cell_type": "code",
   "execution_count": 6,
   "id": "841abc02-fda9-46ee-ba3d-31ebecd22861",
   "metadata": {},
   "outputs": [
    {
     "data": {
      "text/plain": [
       "19"
      ]
     },
     "execution_count": 6,
     "metadata": {},
     "output_type": "execute_result"
    }
   ],
   "source": [
    "# Strip cases\n",
    "y = \"19M\"\n",
    "a = y.rstrip(\"M\")\n",
    "int(a)"
   ]
  },
  {
   "cell_type": "code",
   "execution_count": 7,
   "id": "6f2b4ce9-3161-4a06-9f9b-c36efd726e16",
   "metadata": {},
   "outputs": [
    {
     "data": {
      "text/plain": [
       "1947"
      ]
     },
     "execution_count": 7,
     "metadata": {},
     "output_type": "execute_result"
    }
   ],
   "source": [
    "x[3]"
   ]
  },
  {
   "cell_type": "code",
   "execution_count": 8,
   "id": "a268e66c-044a-4065-b63b-2e8cdbda97c9",
   "metadata": {},
   "outputs": [
    {
     "data": {
      "text/plain": [
       "[200, 'Delhi']"
      ]
     },
     "execution_count": 8,
     "metadata": {},
     "output_type": "execute_result"
    }
   ],
   "source": [
    "x[1:3]"
   ]
  },
  {
   "cell_type": "code",
   "execution_count": 9,
   "id": "d674d8d9-589e-4f14-9fe3-9a627f799a28",
   "metadata": {},
   "outputs": [
    {
     "data": {
      "text/plain": [
       "6"
      ]
     },
     "execution_count": 9,
     "metadata": {},
     "output_type": "execute_result"
    }
   ],
   "source": [
    "len(x)"
   ]
  },
  {
   "cell_type": "code",
   "execution_count": 10,
   "id": "002f07d4-6054-4990-bea8-7ab104fe6d78",
   "metadata": {},
   "outputs": [],
   "source": [
    "t = (\"Raghunandan\", 12, \"Mysuru\")"
   ]
  },
  {
   "cell_type": "code",
   "execution_count": 11,
   "id": "afde694e-4cef-45b1-8ee9-74dc567bea25",
   "metadata": {},
   "outputs": [
    {
     "data": {
      "text/plain": [
       "tuple"
      ]
     },
     "execution_count": 11,
     "metadata": {},
     "output_type": "execute_result"
    }
   ],
   "source": [
    "type(t)"
   ]
  },
  {
   "cell_type": "code",
   "execution_count": 12,
   "id": "e4782558-27ad-481f-b006-513a75972fea",
   "metadata": {},
   "outputs": [
    {
     "data": {
      "text/plain": [
       "['__add__',\n",
       " '__class__',\n",
       " '__class_getitem__',\n",
       " '__contains__',\n",
       " '__delattr__',\n",
       " '__dir__',\n",
       " '__doc__',\n",
       " '__eq__',\n",
       " '__format__',\n",
       " '__ge__',\n",
       " '__getattribute__',\n",
       " '__getitem__',\n",
       " '__getnewargs__',\n",
       " '__getstate__',\n",
       " '__gt__',\n",
       " '__hash__',\n",
       " '__init__',\n",
       " '__init_subclass__',\n",
       " '__iter__',\n",
       " '__le__',\n",
       " '__len__',\n",
       " '__lt__',\n",
       " '__mul__',\n",
       " '__ne__',\n",
       " '__new__',\n",
       " '__reduce__',\n",
       " '__reduce_ex__',\n",
       " '__repr__',\n",
       " '__rmul__',\n",
       " '__setattr__',\n",
       " '__sizeof__',\n",
       " '__str__',\n",
       " '__subclasshook__',\n",
       " 'count',\n",
       " 'index']"
      ]
     },
     "execution_count": 12,
     "metadata": {},
     "output_type": "execute_result"
    }
   ],
   "source": [
    "dir(tuple)"
   ]
  },
  {
   "cell_type": "code",
   "execution_count": 13,
   "id": "6bdbfa44-e64d-4168-97af-9c2a5c00d51d",
   "metadata": {},
   "outputs": [
    {
     "data": {
      "text/plain": [
       "{'id': 101, 'name': 'India', 'age': 200, 'city': 'Delhi'}"
      ]
     },
     "execution_count": 13,
     "metadata": {},
     "output_type": "execute_result"
    }
   ],
   "source": [
    "# Dictionary - k:v\n",
    "d1 = {\"id\":101, \"name\":\"India\", \"age\":200, \"city\":\"Delhi\"}\n",
    "d1"
   ]
  },
  {
   "cell_type": "code",
   "execution_count": 14,
   "id": "80832b1f-8717-4400-a6bb-7c0b3ee1c496",
   "metadata": {},
   "outputs": [
    {
     "data": {
      "text/plain": [
       "'India'"
      ]
     },
     "execution_count": 14,
     "metadata": {},
     "output_type": "execute_result"
    }
   ],
   "source": [
    "d1[\"name\"]"
   ]
  },
  {
   "cell_type": "code",
   "execution_count": 15,
   "id": "7226b767-d12d-42d2-809d-ca205275f4fd",
   "metadata": {},
   "outputs": [
    {
     "data": {
      "text/plain": [
       "'India'"
      ]
     },
     "execution_count": 15,
     "metadata": {},
     "output_type": "execute_result"
    }
   ],
   "source": [
    "d1.get(\"name\")"
   ]
  },
  {
   "cell_type": "code",
   "execution_count": 16,
   "id": "ca289ca6-5ebe-49d2-b635-e2b575b720d7",
   "metadata": {},
   "outputs": [],
   "source": [
    "del d1[\"city\"]"
   ]
  },
  {
   "cell_type": "code",
   "execution_count": 17,
   "id": "0755a1c4-80a1-45ef-8be2-d61d631e2277",
   "metadata": {},
   "outputs": [
    {
     "data": {
      "text/plain": [
       "{'id': 101, 'name': 'India', 'age': 200}"
      ]
     },
     "execution_count": 17,
     "metadata": {},
     "output_type": "execute_result"
    }
   ],
   "source": [
    "d1"
   ]
  },
  {
   "cell_type": "code",
   "execution_count": 18,
   "id": "1d005949-1f2c-44a9-9220-e00d18d42e09",
   "metadata": {},
   "outputs": [],
   "source": [
    "s1 = {1, 4, 7, 9, 12}\n",
    "s2 = {4, 6, 12, 8, 15}"
   ]
  },
  {
   "cell_type": "code",
   "execution_count": 19,
   "id": "3da48ea3-553d-4b98-9da2-d8d2c7d23298",
   "metadata": {},
   "outputs": [
    {
     "data": {
      "text/plain": [
       "{1, 4, 6, 7, 8, 9, 12, 15}"
      ]
     },
     "execution_count": 19,
     "metadata": {},
     "output_type": "execute_result"
    }
   ],
   "source": [
    "s1.union(s2)"
   ]
  },
  {
   "cell_type": "code",
   "execution_count": 20,
   "id": "da8b6996-689b-4c6a-9e1c-304b300c087f",
   "metadata": {},
   "outputs": [
    {
     "data": {
      "text/plain": [
       "{4, 12}"
      ]
     },
     "execution_count": 20,
     "metadata": {},
     "output_type": "execute_result"
    }
   ],
   "source": [
    "s1.intersection(s2)"
   ]
  },
  {
   "cell_type": "code",
   "execution_count": 21,
   "id": "3d003175-d040-4c6b-b210-c1aa281e4ef8",
   "metadata": {},
   "outputs": [
    {
     "data": {
      "text/plain": [
       "[14, 56, 72, 90]"
      ]
     },
     "execution_count": 21,
     "metadata": {},
     "output_type": "execute_result"
    }
   ],
   "source": [
    "# List comprehension - without\n",
    "data = [23, 14, 56, 72, 90]\n",
    "new_data = []\n",
    "for x in data:\n",
    "    if x%2==0:\n",
    "        new_data.append(x)\n",
    "new_data"
   ]
  },
  {
   "cell_type": "code",
   "execution_count": 22,
   "id": "35df7fb5-f4f9-4d54-882f-dcb0fd8b44e7",
   "metadata": {},
   "outputs": [
    {
     "data": {
      "text/plain": [
       "[14, 56, 72, 90]"
      ]
     },
     "execution_count": 22,
     "metadata": {},
     "output_type": "execute_result"
    }
   ],
   "source": [
    "# If list comprehension is used!\n",
    "data1 = [x for x in data if x%2==0]\n",
    "data1"
   ]
  },
  {
   "cell_type": "code",
   "execution_count": 23,
   "id": "2b9c867b-0d7e-4d73-ac80-f60ad8b210b9",
   "metadata": {},
   "outputs": [
    {
     "name": "stdout",
     "output_type": "stream",
     "text": [
      "Requirement already satisfied: pandas in c:\\users\\raghunandan m s\\appdata\\local\\programs\\python\\python312\\lib\\site-packages (2.2.3)\n",
      "Requirement already satisfied: numpy in c:\\users\\raghunandan m s\\appdata\\local\\programs\\python\\python312\\lib\\site-packages (2.0.2)\n",
      "Requirement already satisfied: matplotlib in c:\\users\\raghunandan m s\\appdata\\local\\programs\\python\\python312\\lib\\site-packages (3.9.3)\n",
      "Requirement already satisfied: seaborn in c:\\users\\raghunandan m s\\appdata\\local\\programs\\python\\python312\\lib\\site-packages (0.13.2)\n",
      "Requirement already satisfied: python-dateutil>=2.8.2 in c:\\users\\raghunandan m s\\appdata\\local\\programs\\python\\python312\\lib\\site-packages (from pandas) (2.9.0.post0)\n",
      "Requirement already satisfied: pytz>=2020.1 in c:\\users\\raghunandan m s\\appdata\\local\\programs\\python\\python312\\lib\\site-packages (from pandas) (2024.2)\n",
      "Requirement already satisfied: tzdata>=2022.7 in c:\\users\\raghunandan m s\\appdata\\local\\programs\\python\\python312\\lib\\site-packages (from pandas) (2024.2)\n",
      "Requirement already satisfied: contourpy>=1.0.1 in c:\\users\\raghunandan m s\\appdata\\local\\programs\\python\\python312\\lib\\site-packages (from matplotlib) (1.3.0)\n",
      "Requirement already satisfied: cycler>=0.10 in c:\\users\\raghunandan m s\\appdata\\local\\programs\\python\\python312\\lib\\site-packages (from matplotlib) (0.12.1)\n",
      "Requirement already satisfied: fonttools>=4.22.0 in c:\\users\\raghunandan m s\\appdata\\local\\programs\\python\\python312\\lib\\site-packages (from matplotlib) (4.54.1)\n",
      "Requirement already satisfied: kiwisolver>=1.3.1 in c:\\users\\raghunandan m s\\appdata\\local\\programs\\python\\python312\\lib\\site-packages (from matplotlib) (1.4.7)\n",
      "Requirement already satisfied: packaging>=20.0 in c:\\users\\raghunandan m s\\appdata\\local\\programs\\python\\python312\\lib\\site-packages (from matplotlib) (24.1)\n",
      "Requirement already satisfied: pillow>=8 in c:\\users\\raghunandan m s\\appdata\\local\\programs\\python\\python312\\lib\\site-packages (from matplotlib) (11.0.0)\n",
      "Requirement already satisfied: pyparsing>=2.3.1 in c:\\users\\raghunandan m s\\appdata\\local\\programs\\python\\python312\\lib\\site-packages (from matplotlib) (3.2.0)\n",
      "Requirement already satisfied: six>=1.5 in c:\\users\\raghunandan m s\\appdata\\local\\programs\\python\\python312\\lib\\site-packages (from python-dateutil>=2.8.2->pandas) (1.16.0)\n",
      "Note: you may need to restart the kernel to use updated packages.\n"
     ]
    },
    {
     "name": "stderr",
     "output_type": "stream",
     "text": [
      "\n",
      "[notice] A new release of pip is available: 24.3.1 -> 25.0.1\n",
      "[notice] To update, run: python.exe -m pip install --upgrade pip\n"
     ]
    }
   ],
   "source": [
    "pip install pandas numpy matplotlib seaborn"
   ]
  },
  {
   "cell_type": "code",
   "execution_count": 24,
   "id": "3d836842-7574-4390-bf64-5c7b5f34f12b",
   "metadata": {},
   "outputs": [],
   "source": [
    "import numpy as np"
   ]
  },
  {
   "cell_type": "code",
   "execution_count": 25,
   "id": "d7091056-1bca-4ea8-a6ca-536e7aba61dd",
   "metadata": {},
   "outputs": [
    {
     "data": {
      "text/plain": [
       "np.float64(51.0)"
      ]
     },
     "execution_count": 25,
     "metadata": {},
     "output_type": "execute_result"
    }
   ],
   "source": [
    "data = [23, 14, 56, 72, 90]\n",
    "np.mean(data)"
   ]
  },
  {
   "cell_type": "code",
   "execution_count": 26,
   "id": "bb82ab24-4738-493f-8719-fd4d767875f1",
   "metadata": {},
   "outputs": [
    {
     "data": {
      "text/plain": [
       "np.int64(14)"
      ]
     },
     "execution_count": 26,
     "metadata": {},
     "output_type": "execute_result"
    }
   ],
   "source": [
    "np.min(data)"
   ]
  },
  {
   "cell_type": "code",
   "execution_count": 27,
   "id": "dbac4dbf-1f9e-4fe8-ae6a-53dd6f0bd71a",
   "metadata": {},
   "outputs": [],
   "source": [
    "a = [1, 3, 5, 6]\n",
    "b = [4, 5, 6, 7]\n",
    "arr1 = np.array(a)\n",
    "arr2 = np.array(b)"
   ]
  },
  {
   "cell_type": "code",
   "execution_count": 29,
   "id": "5764b5a1-42de-4f6d-8871-b1070542962c",
   "metadata": {},
   "outputs": [
    {
     "data": {
      "text/plain": [
       "array([4, 5, 6, 7])"
      ]
     },
     "execution_count": 29,
     "metadata": {},
     "output_type": "execute_result"
    }
   ],
   "source": [
    "arr2"
   ]
  },
  {
   "cell_type": "code",
   "execution_count": 30,
   "id": "1a51a8ff-e96b-4539-b1af-72f80ed28e63",
   "metadata": {},
   "outputs": [
    {
     "data": {
      "text/plain": [
       "array([ 4, 15, 30, 42])"
      ]
     },
     "execution_count": 30,
     "metadata": {},
     "output_type": "execute_result"
    }
   ],
   "source": [
    "arr1 * arr2"
   ]
  },
  {
   "cell_type": "code",
   "execution_count": 31,
   "id": "af257dc1-19e1-480e-87f7-5729d71411c6",
   "metadata": {},
   "outputs": [
    {
     "data": {
      "text/plain": [
       "1"
      ]
     },
     "execution_count": 31,
     "metadata": {},
     "output_type": "execute_result"
    }
   ],
   "source": [
    "arr1.ndim"
   ]
  },
  {
   "cell_type": "code",
   "execution_count": 32,
   "id": "e9c55a7c-4cf1-44fc-bb13-cabb06a641f8",
   "metadata": {},
   "outputs": [
    {
     "data": {
      "text/plain": [
       "(4,)"
      ]
     },
     "execution_count": 32,
     "metadata": {},
     "output_type": "execute_result"
    }
   ],
   "source": [
    "arr1.shape"
   ]
  },
  {
   "cell_type": "code",
   "execution_count": 33,
   "id": "d22bf942-02af-437e-a962-85e2fd780375",
   "metadata": {},
   "outputs": [
    {
     "data": {
      "text/plain": [
       "dtype('int64')"
      ]
     },
     "execution_count": 33,
     "metadata": {},
     "output_type": "execute_result"
    }
   ],
   "source": [
    "arr1.dtype"
   ]
  },
  {
   "cell_type": "code",
   "execution_count": 34,
   "id": "3006c7b1-3dfe-4b2a-85a5-678a7727ab88",
   "metadata": {},
   "outputs": [
    {
     "data": {
      "text/plain": [
       "array([[1, 2, 3],\n",
       "       [4, 5, 6],\n",
       "       [7, 8, 9]])"
      ]
     },
     "execution_count": 34,
     "metadata": {},
     "output_type": "execute_result"
    }
   ],
   "source": [
    "arr3 = np.array([[1, 2, 3],[4, 5, 6], [7, 8, 9]])\n",
    "arr3"
   ]
  },
  {
   "cell_type": "code",
   "execution_count": 35,
   "id": "ba710357-ddd1-491c-b8aa-3c4b58ee27f1",
   "metadata": {},
   "outputs": [
    {
     "data": {
      "text/plain": [
       "2"
      ]
     },
     "execution_count": 35,
     "metadata": {},
     "output_type": "execute_result"
    }
   ],
   "source": [
    "arr3.ndim"
   ]
  },
  {
   "cell_type": "code",
   "execution_count": 36,
   "id": "4f0eadf6-9a59-4358-96ae-063279e4fbaf",
   "metadata": {},
   "outputs": [
    {
     "data": {
      "text/plain": [
       "(3, 3)"
      ]
     },
     "execution_count": 36,
     "metadata": {},
     "output_type": "execute_result"
    }
   ],
   "source": [
    "arr3.shape"
   ]
  },
  {
   "cell_type": "code",
   "execution_count": 37,
   "id": "4054ddb0-bbd7-4e72-9aa8-acf3271095cf",
   "metadata": {},
   "outputs": [
    {
     "data": {
      "text/plain": [
       "array([0, 1, 2, 3, 4, 5, 6, 7, 8, 9])"
      ]
     },
     "execution_count": 37,
     "metadata": {},
     "output_type": "execute_result"
    }
   ],
   "source": [
    "np.arange(0, 10, 1)"
   ]
  },
  {
   "cell_type": "code",
   "execution_count": 38,
   "id": "efd16360-770b-4215-9308-f743cb20858f",
   "metadata": {},
   "outputs": [
    {
     "data": {
      "text/plain": [
       "array([4, 5, 6, 7, 8, 9])"
      ]
     },
     "execution_count": 38,
     "metadata": {},
     "output_type": "execute_result"
    }
   ],
   "source": [
    "np.arange(4, 10)"
   ]
  },
  {
   "cell_type": "code",
   "execution_count": 39,
   "id": "3d2d59cf-615d-43d1-8476-94e7d24973d3",
   "metadata": {},
   "outputs": [
    {
     "data": {
      "text/plain": [
       "array([10,  9,  8,  7,  6,  5,  4,  3,  2])"
      ]
     },
     "execution_count": 39,
     "metadata": {},
     "output_type": "execute_result"
    }
   ],
   "source": [
    "np.arange(10, 1, -1)"
   ]
  },
  {
   "cell_type": "code",
   "execution_count": 40,
   "id": "0df8f5ac-9433-454b-bcb2-80b0dd6ddb03",
   "metadata": {},
   "outputs": [
    {
     "data": {
      "text/plain": [
       "array([79, 32, 92, 51, 98], dtype=int32)"
      ]
     },
     "execution_count": 40,
     "metadata": {},
     "output_type": "execute_result"
    }
   ],
   "source": [
    "np.random.randint(10, 100, 5)"
   ]
  },
  {
   "cell_type": "code",
   "execution_count": 41,
   "id": "6c0edbc8-7491-4190-b6db-414027b25e3b",
   "metadata": {},
   "outputs": [
    {
     "data": {
      "text/plain": [
       "array([20.08256671, 94.28757626, 67.53498159, 12.75312621, 67.10494059,\n",
       "       42.0131266 , 26.64969952, 18.14815627, 15.30272596, 84.28501568,\n",
       "       12.27306833, 73.78817357, 11.1485257 , 47.19671248, 46.92913549,\n",
       "       97.76084896, 45.59763969, 64.66387032, 69.29559955, 44.06786669,\n",
       "       68.3007348 , 31.96196251, 56.12729033, 12.27024223, 62.18925671,\n",
       "       43.61161547, 11.91704285, 82.47351473, 71.94377457, 79.8524967 ,\n",
       "       74.04467926, 82.16730473, 87.54759203, 43.49531765, 43.35688853,\n",
       "       96.01982712, 89.09076356, 92.6572079 , 20.96814262, 95.74852736,\n",
       "       54.34056685, 99.44769212, 12.34786005, 61.10575551, 10.32251237,\n",
       "       89.96582358, 57.21833197, 95.62573784, 37.87385153, 88.62835023])"
      ]
     },
     "execution_count": 41,
     "metadata": {},
     "output_type": "execute_result"
    }
   ],
   "source": [
    "np.random.uniform(10, 100, 50)"
   ]
  },
  {
   "cell_type": "code",
   "execution_count": 43,
   "id": "5db9edde-2ac9-4179-8ea8-a763900f11da",
   "metadata": {
    "scrolled": true
   },
   "outputs": [
    {
     "data": {
      "text/plain": [
       "array([0.39280539, 0.91011323, 0.91215924, 0.1954589 , 0.67085614,\n",
       "       0.06412712, 0.57534473, 0.31603013, 0.2997589 , 0.72861739,\n",
       "       0.91468248, 0.57840435, 0.09454272, 0.89670021, 0.74157423,\n",
       "       0.46467119, 0.30351558, 0.24200573, 0.01539848, 0.38874529,\n",
       "       0.06792536, 0.52104905, 0.73332514, 0.14249657, 0.00105586,\n",
       "       0.87888843, 0.32897351, 0.75774973, 0.84181239, 0.42267463,\n",
       "       0.46837274, 0.45796516, 0.90967604, 0.34819615, 0.67786277,\n",
       "       0.5933439 , 0.6036819 , 0.78219359, 0.41574197, 0.20742166,\n",
       "       0.70763745, 0.81168811, 0.59769316, 0.99408603, 0.48929394,\n",
       "       0.80933488, 0.17735427, 0.8176812 , 0.43489794, 0.64882765,\n",
       "       0.1509326 , 0.46077831, 0.18792895, 0.8127241 , 0.69836878,\n",
       "       0.83230164, 0.1348143 , 0.10030472, 0.65500535, 0.27189723,\n",
       "       0.71963184, 0.89903798, 0.99453336, 0.41788689, 0.57870785,\n",
       "       0.51279604, 0.63945086, 0.78752336, 0.44021318, 0.4403575 ,\n",
       "       0.67769705, 0.58094524, 0.80712779, 0.17335785, 0.79915649,\n",
       "       0.3260182 , 0.06034668, 0.30037081, 0.81465454, 0.58928588,\n",
       "       0.86518076, 0.74545777, 0.85705457, 0.28589451, 0.94060428,\n",
       "       0.14872077, 0.2838403 , 0.04174345, 0.06149961, 0.07701238,\n",
       "       0.13858633, 0.65826024, 0.01770088, 0.81938381, 0.68128277,\n",
       "       0.54261908, 0.5177641 , 0.75574399, 0.73456432, 0.75245697])"
      ]
     },
     "execution_count": 43,
     "metadata": {},
     "output_type": "execute_result"
    }
   ],
   "source": [
    "np.random.rand(100)"
   ]
  },
  {
   "cell_type": "code",
   "execution_count": 44,
   "id": "594ff798-40ea-4fd1-b816-11ec16b49150",
   "metadata": {},
   "outputs": [
    {
     "data": {
      "text/plain": [
       "array([[88, 97, 20],\n",
       "       [13, 22, 67],\n",
       "       [51, 87, 81],\n",
       "       [15, 87, 53]], dtype=int32)"
      ]
     },
     "execution_count": 44,
     "metadata": {},
     "output_type": "execute_result"
    }
   ],
   "source": [
    "np.random.randint(10, 100, 12).reshape(4, 3)"
   ]
  },
  {
   "cell_type": "code",
   "execution_count": 46,
   "id": "f8b356d3-8dc3-41d2-9787-258b00c0fc8d",
   "metadata": {},
   "outputs": [
    {
     "data": {
      "text/plain": [
       "np.float64(45.0)"
      ]
     },
     "execution_count": 46,
     "metadata": {},
     "output_type": "execute_result"
    }
   ],
   "source": [
    "r = 45.7\n",
    "np.floor(r)"
   ]
  },
  {
   "cell_type": "code",
   "execution_count": 47,
   "id": "144e2626-c005-498a-82a4-a453cdd1eb27",
   "metadata": {},
   "outputs": [
    {
     "data": {
      "text/plain": [
       "np.float64(46.0)"
      ]
     },
     "execution_count": 47,
     "metadata": {},
     "output_type": "execute_result"
    }
   ],
   "source": [
    "np.ceil(r)"
   ]
  },
  {
   "cell_type": "code",
   "execution_count": 48,
   "id": "a2325e3b-2a41-474a-8d98-06d29fd5fb9a",
   "metadata": {},
   "outputs": [],
   "source": [
    "z = np.random.randint(1, 100, 12)"
   ]
  },
  {
   "cell_type": "code",
   "execution_count": 49,
   "id": "5c83388c-b7f9-40fb-b6a7-e71e91e4ce66",
   "metadata": {},
   "outputs": [],
   "source": [
    "z = sorted(z)"
   ]
  },
  {
   "cell_type": "code",
   "execution_count": 50,
   "id": "5bde4ab9-cfc3-45b5-9004-02b886dfe92d",
   "metadata": {},
   "outputs": [
    {
     "data": {
      "text/plain": [
       "[np.int32(8),\n",
       " np.int32(10),\n",
       " np.int32(20),\n",
       " np.int32(23),\n",
       " np.int32(25),\n",
       " np.int32(37),\n",
       " np.int32(42),\n",
       " np.int32(55),\n",
       " np.int32(70),\n",
       " np.int32(79),\n",
       " np.int32(89),\n",
       " np.int32(93)]"
      ]
     },
     "execution_count": 50,
     "metadata": {},
     "output_type": "execute_result"
    }
   ],
   "source": [
    "z"
   ]
  },
  {
   "cell_type": "code",
   "execution_count": 51,
   "id": "4f67fc1d-074d-4806-a669-476971991406",
   "metadata": {},
   "outputs": [
    {
     "data": {
      "text/plain": [
       "np.float64(72.25)"
      ]
     },
     "execution_count": 51,
     "metadata": {},
     "output_type": "execute_result"
    }
   ],
   "source": [
    "np.percentile(z, 75)"
   ]
  },
  {
   "cell_type": "code",
   "execution_count": 52,
   "id": "8ba1ea8e-773c-4fd6-a375-f42933959beb",
   "metadata": {},
   "outputs": [],
   "source": [
    "import pandas as pd"
   ]
  },
  {
   "cell_type": "code",
   "execution_count": 53,
   "id": "23d7feae-fadb-4859-a903-fe78773ea97b",
   "metadata": {},
   "outputs": [],
   "source": [
    "renewable_sources = ['Solar', 'Wind', 'Hydropower', 'Geothermal', 'Biomass']\n",
    "\n",
    "data = {\n",
    "    \"Project\":['Solar Farm', 'Wind Turbine', 'Hydropower', 'Solar Roof', 'Geothermal Plant'],\n",
    "    \"Technology\":['Solar', 'Wind', 'Hydro', 'Solar', 'Geothermal'],\n",
    "    \"Capacity (MW)\":[150, 300, 200, 50, 100],\n",
    "    \"Cost (Millions $)\":[200, 400, 350, 100, 250],\n",
    "    \"Location\":[\"California\", \"Texas\", \"Washington\", \"Nevada\", \"Chicago\"],\n",
    "    \"Completion Year\": [2023, 2024, 2022, 2025, 2023]\n",
    "}"
   ]
  },
  {
   "cell_type": "code",
   "execution_count": 54,
   "id": "0748e3b8-6ffd-4c10-b49a-8e0c197c7d12",
   "metadata": {},
   "outputs": [
    {
     "name": "stdout",
     "output_type": "stream",
     "text": [
      "Renewable Energy Sources are:\n",
      "0         Solar\n",
      "1          Wind\n",
      "2    Hydropower\n",
      "3    Geothermal\n",
      "4       Biomass\n",
      "dtype: object\n"
     ]
    }
   ],
   "source": [
    "# Create a pandas series for renewable energy sources\n",
    "renewable_series = pd.Series(renewable_sources)\n",
    "print(\"Renewable Energy Sources are:\")\n",
    "print(renewable_series)"
   ]
  },
  {
   "cell_type": "code",
   "execution_count": 56,
   "id": "22f1aca6-761f-453e-a043-5902567a70f8",
   "metadata": {},
   "outputs": [
    {
     "name": "stdout",
     "output_type": "stream",
     "text": [
      "Green Technology Projects DataFrame:\n",
      "            Project  Technology  Capacity (MW)  Cost (Millions $)    Location  \\\n",
      "0        Solar Farm       Solar            150                200  California   \n",
      "1      Wind Turbine        Wind            300                400       Texas   \n",
      "2        Hydropower       Hydro            200                350  Washington   \n",
      "3        Solar Roof       Solar             50                100      Nevada   \n",
      "4  Geothermal Plant  Geothermal            100                250     Chicago   \n",
      "\n",
      "   Completion Year  \n",
      "0             2023  \n",
      "1             2024  \n",
      "2             2022  \n",
      "3             2025  \n",
      "4             2023  \n"
     ]
    }
   ],
   "source": [
    "# Create a DataFrame for green tech projects\n",
    "df = pd.DataFrame(data)\n",
    "print(\"Green Technology Projects DataFrame:\")\n",
    "print(df)"
   ]
  },
  {
   "cell_type": "code",
   "execution_count": 57,
   "id": "67e14d8f-983c-47cc-b9a6-5184d0c83bd3",
   "metadata": {},
   "outputs": [
    {
     "data": {
      "text/plain": [
       "0          Solar Farm\n",
       "1        Wind Turbine\n",
       "2          Hydropower\n",
       "3          Solar Roof\n",
       "4    Geothermal Plant\n",
       "Name: Project, dtype: object"
      ]
     },
     "execution_count": 57,
     "metadata": {},
     "output_type": "execute_result"
    }
   ],
   "source": [
    "df['Project']"
   ]
  },
  {
   "cell_type": "code",
   "execution_count": 58,
   "id": "f508cf46-1173-463a-93a2-4440c2342258",
   "metadata": {},
   "outputs": [
    {
     "name": "stdout",
     "output_type": "stream",
     "text": [
      "0          Solar Farm\n",
      "1        Wind Turbine\n",
      "2          Hydropower\n",
      "3          Solar Roof\n",
      "4    Geothermal Plant\n",
      "Name: Project, dtype: object\n"
     ]
    }
   ],
   "source": [
    "print(df['Project'])"
   ]
  },
  {
   "cell_type": "code",
   "execution_count": 59,
   "id": "c4330342-1bc3-41b8-98c4-7343593df14b",
   "metadata": {},
   "outputs": [
    {
     "data": {
      "text/plain": [
       "0    California\n",
       "1         Texas\n",
       "2    Washington\n",
       "3        Nevada\n",
       "4       Chicago\n",
       "Name: Location, dtype: object"
      ]
     },
     "execution_count": 59,
     "metadata": {},
     "output_type": "execute_result"
    }
   ],
   "source": [
    "df['Location']"
   ]
  },
  {
   "cell_type": "code",
   "execution_count": 60,
   "id": "40f3d133-b6f0-4784-9fe8-ee82671e08f0",
   "metadata": {},
   "outputs": [
    {
     "data": {
      "text/html": [
       "<div>\n",
       "<style scoped>\n",
       "    .dataframe tbody tr th:only-of-type {\n",
       "        vertical-align: middle;\n",
       "    }\n",
       "\n",
       "    .dataframe tbody tr th {\n",
       "        vertical-align: top;\n",
       "    }\n",
       "\n",
       "    .dataframe thead th {\n",
       "        text-align: right;\n",
       "    }\n",
       "</style>\n",
       "<table border=\"1\" class=\"dataframe\">\n",
       "  <thead>\n",
       "    <tr style=\"text-align: right;\">\n",
       "      <th></th>\n",
       "      <th>Project</th>\n",
       "      <th>Technology</th>\n",
       "      <th>Capacity (MW)</th>\n",
       "      <th>Cost (Millions $)</th>\n",
       "      <th>Location</th>\n",
       "      <th>Completion Year</th>\n",
       "    </tr>\n",
       "  </thead>\n",
       "  <tbody>\n",
       "    <tr>\n",
       "      <th>0</th>\n",
       "      <td>Solar Farm</td>\n",
       "      <td>Solar</td>\n",
       "      <td>150</td>\n",
       "      <td>200</td>\n",
       "      <td>California</td>\n",
       "      <td>2023</td>\n",
       "    </tr>\n",
       "    <tr>\n",
       "      <th>1</th>\n",
       "      <td>Wind Turbine</td>\n",
       "      <td>Wind</td>\n",
       "      <td>300</td>\n",
       "      <td>400</td>\n",
       "      <td>Texas</td>\n",
       "      <td>2024</td>\n",
       "    </tr>\n",
       "    <tr>\n",
       "      <th>2</th>\n",
       "      <td>Hydropower</td>\n",
       "      <td>Hydro</td>\n",
       "      <td>200</td>\n",
       "      <td>350</td>\n",
       "      <td>Washington</td>\n",
       "      <td>2022</td>\n",
       "    </tr>\n",
       "  </tbody>\n",
       "</table>\n",
       "</div>"
      ],
      "text/plain": [
       "        Project Technology  Capacity (MW)  Cost (Millions $)    Location  \\\n",
       "0    Solar Farm      Solar            150                200  California   \n",
       "1  Wind Turbine       Wind            300                400       Texas   \n",
       "2    Hydropower      Hydro            200                350  Washington   \n",
       "\n",
       "   Completion Year  \n",
       "0             2023  \n",
       "1             2024  \n",
       "2             2022  "
      ]
     },
     "execution_count": 60,
     "metadata": {},
     "output_type": "execute_result"
    }
   ],
   "source": [
    "# Want to print only high capacity projects (> 100 MW)\n",
    "hcp = df[df['Capacity (MW)'] > 100]\n",
    "hcp"
   ]
  },
  {
   "cell_type": "code",
   "execution_count": 61,
   "id": "d31b1676-c7e9-4106-8bd3-fb69f81a53be",
   "metadata": {},
   "outputs": [
    {
     "data": {
      "text/plain": [
       "0     True\n",
       "1     True\n",
       "2     True\n",
       "3    False\n",
       "4    False\n",
       "Name: Capacity (MW), dtype: bool"
      ]
     },
     "execution_count": 61,
     "metadata": {},
     "output_type": "execute_result"
    }
   ],
   "source": [
    "df['Capacity (MW)'] > 100"
   ]
  },
  {
   "cell_type": "code",
   "execution_count": 62,
   "id": "5625a078-45f1-4cf2-885b-568919a0f6d0",
   "metadata": {},
   "outputs": [
    {
     "data": {
      "text/html": [
       "<div>\n",
       "<style scoped>\n",
       "    .dataframe tbody tr th:only-of-type {\n",
       "        vertical-align: middle;\n",
       "    }\n",
       "\n",
       "    .dataframe tbody tr th {\n",
       "        vertical-align: top;\n",
       "    }\n",
       "\n",
       "    .dataframe thead th {\n",
       "        text-align: right;\n",
       "    }\n",
       "</style>\n",
       "<table border=\"1\" class=\"dataframe\">\n",
       "  <thead>\n",
       "    <tr style=\"text-align: right;\">\n",
       "      <th></th>\n",
       "      <th>Project</th>\n",
       "      <th>Technology</th>\n",
       "      <th>Capacity (MW)</th>\n",
       "      <th>Cost (Millions $)</th>\n",
       "      <th>Location</th>\n",
       "      <th>Completion Year</th>\n",
       "      <th>Cost per MW</th>\n",
       "    </tr>\n",
       "  </thead>\n",
       "  <tbody>\n",
       "    <tr>\n",
       "      <th>0</th>\n",
       "      <td>Solar Farm</td>\n",
       "      <td>Solar</td>\n",
       "      <td>150</td>\n",
       "      <td>200</td>\n",
       "      <td>California</td>\n",
       "      <td>2023</td>\n",
       "      <td>1.333333</td>\n",
       "    </tr>\n",
       "    <tr>\n",
       "      <th>1</th>\n",
       "      <td>Wind Turbine</td>\n",
       "      <td>Wind</td>\n",
       "      <td>300</td>\n",
       "      <td>400</td>\n",
       "      <td>Texas</td>\n",
       "      <td>2024</td>\n",
       "      <td>1.333333</td>\n",
       "    </tr>\n",
       "    <tr>\n",
       "      <th>2</th>\n",
       "      <td>Hydropower</td>\n",
       "      <td>Hydro</td>\n",
       "      <td>200</td>\n",
       "      <td>350</td>\n",
       "      <td>Washington</td>\n",
       "      <td>2022</td>\n",
       "      <td>1.750000</td>\n",
       "    </tr>\n",
       "    <tr>\n",
       "      <th>3</th>\n",
       "      <td>Solar Roof</td>\n",
       "      <td>Solar</td>\n",
       "      <td>50</td>\n",
       "      <td>100</td>\n",
       "      <td>Nevada</td>\n",
       "      <td>2025</td>\n",
       "      <td>2.000000</td>\n",
       "    </tr>\n",
       "    <tr>\n",
       "      <th>4</th>\n",
       "      <td>Geothermal Plant</td>\n",
       "      <td>Geothermal</td>\n",
       "      <td>100</td>\n",
       "      <td>250</td>\n",
       "      <td>Chicago</td>\n",
       "      <td>2023</td>\n",
       "      <td>2.500000</td>\n",
       "    </tr>\n",
       "  </tbody>\n",
       "</table>\n",
       "</div>"
      ],
      "text/plain": [
       "            Project  Technology  Capacity (MW)  Cost (Millions $)    Location  \\\n",
       "0        Solar Farm       Solar            150                200  California   \n",
       "1      Wind Turbine        Wind            300                400       Texas   \n",
       "2        Hydropower       Hydro            200                350  Washington   \n",
       "3        Solar Roof       Solar             50                100      Nevada   \n",
       "4  Geothermal Plant  Geothermal            100                250     Chicago   \n",
       "\n",
       "   Completion Year  Cost per MW  \n",
       "0             2023     1.333333  \n",
       "1             2024     1.333333  \n",
       "2             2022     1.750000  \n",
       "3             2025     2.000000  \n",
       "4             2023     2.500000  "
      ]
     },
     "execution_count": 62,
     "metadata": {},
     "output_type": "execute_result"
    }
   ],
   "source": [
    "# Add New Col\n",
    "df[\"Cost per MW\"] =df[\"Cost (Millions $)\"] / df['Capacity (MW)']\n",
    "df"
   ]
  },
  {
   "cell_type": "code",
   "execution_count": 65,
   "id": "09faa12f-91ac-473a-adaf-2b20c5bbfe50",
   "metadata": {},
   "outputs": [
    {
     "name": "stdout",
     "output_type": "stream",
     "text": [
      "The total Capacity of all the projects are:  800\n",
      "The total cost of the projects:  1300\n"
     ]
    }
   ],
   "source": [
    "# Aggregation\n",
    "total_capacity = df[\"Capacity (MW)\"].sum()\n",
    "total_cost = df[\"Cost (Millions $)\"].sum()\n",
    "print(\"The total Capacity of all the projects are: \", total_capacity)\n",
    "print(\"The total cost of the projects: \", total_cost)"
   ]
  },
  {
   "cell_type": "code",
   "execution_count": 66,
   "id": "6b8ae9f7-472a-462c-aef4-4711d16bab3c",
   "metadata": {},
   "outputs": [
    {
     "data": {
      "text/plain": [
       "Technology\n",
       "Geothermal    100\n",
       "Hydro         200\n",
       "Solar         200\n",
       "Wind          300\n",
       "Name: Capacity (MW), dtype: int64"
      ]
     },
     "execution_count": 66,
     "metadata": {},
     "output_type": "execute_result"
    }
   ],
   "source": [
    "# Grouping of data\n",
    "grouped_data = df.groupby(\"Technology\")[\"Capacity (MW)\"].sum()\n",
    "grouped_data"
   ]
  },
  {
   "cell_type": "markdown",
   "id": "b413d538-73f3-4f4a-bffa-834a9c8b1657",
   "metadata": {},
   "source": [
    "## Day 3: Numpy"
   ]
  },
  {
   "cell_type": "code",
   "execution_count": 3,
   "id": "ac45b3db-9d08-4ab8-a3e0-272b9f77787d",
   "metadata": {},
   "outputs": [
    {
     "name": "stdout",
     "output_type": "stream",
     "text": [
      "Energy consumption in mWh for different energy sources:\n"
     ]
    },
    {
     "data": {
      "text/plain": [
       "array([1200, 3400, 2900, 1800, 2500])"
      ]
     },
     "execution_count": 3,
     "metadata": {},
     "output_type": "execute_result"
    }
   ],
   "source": [
    "import numpy as np\n",
    "\n",
    "energy_consumption = np.array([1200, 3400, 2900, 1800, 2500])\n",
    "print(\"Energy consumption in mWh for different energy sources:\")\n",
    "energy_consumption"
   ]
  },
  {
   "cell_type": "code",
   "execution_count": 5,
   "id": "2a70a2e6-9f8a-483c-99b3-705c271981b5",
   "metadata": {},
   "outputs": [
    {
     "name": "stdout",
     "output_type": "stream",
     "text": [
      "The total energy consumption is 11800 MWh\n"
     ]
    }
   ],
   "source": [
    "# Calculate the total energy consumption\n",
    "total_consumption = np.sum(energy_consumption)\n",
    "print(f'The total energy consumption is {total_consumption} MWh')"
   ]
  },
  {
   "cell_type": "code",
   "execution_count": 6,
   "id": "7d80c214-537a-4d31-889f-f85fb980231d",
   "metadata": {},
   "outputs": [
    {
     "name": "stdout",
     "output_type": "stream",
     "text": [
      "The mean energy consumption is 2360.0 MWh\n"
     ]
    }
   ],
   "source": [
    "# Calculate the mean energy consumption\n",
    "mean_consumption = np.mean(energy_consumption)\n",
    "print(f'The mean energy consumption is {mean_consumption} MWh')"
   ]
  },
  {
   "cell_type": "code",
   "execution_count": 7,
   "id": "e22909de-5ba1-4e7d-89a5-6cc7d1b24a2c",
   "metadata": {},
   "outputs": [
    {
     "data": {
      "text/plain": [
       "np.float64(781.2809993849844)"
      ]
     },
     "execution_count": 7,
     "metadata": {},
     "output_type": "execute_result"
    }
   ],
   "source": [
    "# Calculate the standard deviation of energy consumption\n",
    "std_ec = np.std(energy_consumption)\n",
    "std_ec"
   ]
  },
  {
   "cell_type": "code",
   "execution_count": 8,
   "id": "90e38a22-7b14-4a68-897c-8ba02805b986",
   "metadata": {},
   "outputs": [
    {
     "name": "stdout",
     "output_type": "stream",
     "text": [
      "The standard Deviation for Energy Consumption: 781.2809993849844 MWh\n"
     ]
    }
   ],
   "source": [
    "print(f'The standard Deviation for Energy Consumption: {std_ec} MWh')"
   ]
  },
  {
   "cell_type": "code",
   "execution_count": 9,
   "id": "48406462-a4b6-4f47-9160-5672ac3dc17c",
   "metadata": {},
   "outputs": [
    {
     "name": "stdout",
     "output_type": "stream",
     "text": [
      "Reshaped array is:\n",
      "[[1200]\n",
      " [3400]\n",
      " [2900]\n",
      " [1800]\n",
      " [2500]]\n"
     ]
    }
   ],
   "source": [
    "# Reshape the array\n",
    "reshaped_array = energy_consumption.reshape((5,1))\n",
    "print('Reshaped array is:')\n",
    "print(reshaped_array)"
   ]
  },
  {
   "cell_type": "markdown",
   "id": "502bf413-4aaa-4580-a55b-5e133e15ba41",
   "metadata": {},
   "source": [
    "# Data Preprocessing"
   ]
  },
  {
   "cell_type": "code",
   "execution_count": 10,
   "id": "13a489cb-b05a-429d-86c4-faacf7c8bb0f",
   "metadata": {},
   "outputs": [],
   "source": [
    "import pandas as pd\n",
    "import numpy as np\n",
    "\n",
    "# Sample data with missing values\n",
    "data = {\n",
    "    \"Energy Source\":['Solar', 'Wind', 'Hydropower', 'Geothermal', 'Biomass', 'Nuclear'],\n",
    "    \"Energy Consumption (MWh)\":[1200, np.nan, 2900, np.nan, 2500, 3200],\n",
    "    \"Cost (millions $)\":[200, 400, np.nan, 150, 250, np.nan]\n",
    "}"
   ]
  },
  {
   "cell_type": "code",
   "execution_count": 11,
   "id": "c1700f5d-34c3-425f-b166-b2caf26e8d77",
   "metadata": {},
   "outputs": [
    {
     "name": "stdout",
     "output_type": "stream",
     "text": [
      "  Energy Source  Energy Consumption (MWh)  Cost (millions $)\n",
      "0         Solar                    1200.0              200.0\n",
      "1          Wind                       NaN              400.0\n",
      "2    Hydropower                    2900.0                NaN\n",
      "3    Geothermal                       NaN              150.0\n",
      "4       Biomass                    2500.0              250.0\n",
      "5       Nuclear                    3200.0                NaN\n"
     ]
    }
   ],
   "source": [
    "# Create a dataframe:\n",
    "df = pd.DataFrame(data)\n",
    "print(df)"
   ]
  },
  {
   "cell_type": "markdown",
   "id": "136879e4-1635-461f-8b45-4530b3abdfa0",
   "metadata": {},
   "source": [
    "## Handle the missing values:\n",
    " - Removing (drop) mv\n",
    " - impute (fill) mv - mean"
   ]
  },
  {
   "cell_type": "code",
   "execution_count": 12,
   "id": "ef927437-7606-4325-b8d6-514a496297e2",
   "metadata": {},
   "outputs": [
    {
     "data": {
      "text/html": [
       "<div>\n",
       "<style scoped>\n",
       "    .dataframe tbody tr th:only-of-type {\n",
       "        vertical-align: middle;\n",
       "    }\n",
       "\n",
       "    .dataframe tbody tr th {\n",
       "        vertical-align: top;\n",
       "    }\n",
       "\n",
       "    .dataframe thead th {\n",
       "        text-align: right;\n",
       "    }\n",
       "</style>\n",
       "<table border=\"1\" class=\"dataframe\">\n",
       "  <thead>\n",
       "    <tr style=\"text-align: right;\">\n",
       "      <th></th>\n",
       "      <th>Energy Source</th>\n",
       "      <th>Energy Consumption (MWh)</th>\n",
       "      <th>Cost (millions $)</th>\n",
       "    </tr>\n",
       "  </thead>\n",
       "  <tbody>\n",
       "    <tr>\n",
       "      <th>0</th>\n",
       "      <td>Solar</td>\n",
       "      <td>1200.0</td>\n",
       "      <td>200.0</td>\n",
       "    </tr>\n",
       "    <tr>\n",
       "      <th>4</th>\n",
       "      <td>Biomass</td>\n",
       "      <td>2500.0</td>\n",
       "      <td>250.0</td>\n",
       "    </tr>\n",
       "  </tbody>\n",
       "</table>\n",
       "</div>"
      ],
      "text/plain": [
       "  Energy Source  Energy Consumption (MWh)  Cost (millions $)\n",
       "0         Solar                    1200.0              200.0\n",
       "4       Biomass                    2500.0              250.0"
      ]
     },
     "execution_count": 12,
     "metadata": {},
     "output_type": "execute_result"
    }
   ],
   "source": [
    "# Remove rows with missing value\n",
    "cleaned_df = df.dropna()\n",
    "cleaned_df"
   ]
  },
  {
   "cell_type": "markdown",
   "id": "ac0909a7-dadb-4b97-beeb-e79368f41952",
   "metadata": {},
   "source": [
    "## Imputation - too add or fill\n",
    " - with mean\n",
    " - foward/backward filling"
   ]
  },
  {
   "cell_type": "code",
   "execution_count": 13,
   "id": "94236980-6cc8-4170-b8a1-a6728bbb2839",
   "metadata": {},
   "outputs": [
    {
     "name": "stderr",
     "output_type": "stream",
     "text": [
      "C:\\Users\\Raghunandan M S\\AppData\\Local\\Temp\\ipykernel_18672\\2818430243.py:2: FutureWarning: A value is trying to be set on a copy of a DataFrame or Series through chained assignment using an inplace method.\n",
      "The behavior will change in pandas 3.0. This inplace method will never work because the intermediate object on which we are setting values always behaves as a copy.\n",
      "\n",
      "For example, when doing 'df[col].method(value, inplace=True)', try using 'df.method({col: value}, inplace=True)' or df[col] = df[col].method(value) instead, to perform the operation inplace on the original object.\n",
      "\n",
      "\n",
      "  df['Energy Consumption (MWh)'].fillna(df['Energy Consumption (MWh)'].mean(), inplace=True)\n",
      "C:\\Users\\Raghunandan M S\\AppData\\Local\\Temp\\ipykernel_18672\\2818430243.py:3: FutureWarning: A value is trying to be set on a copy of a DataFrame or Series through chained assignment using an inplace method.\n",
      "The behavior will change in pandas 3.0. This inplace method will never work because the intermediate object on which we are setting values always behaves as a copy.\n",
      "\n",
      "For example, when doing 'df[col].method(value, inplace=True)', try using 'df.method({col: value}, inplace=True)' or df[col] = df[col].method(value) instead, to perform the operation inplace on the original object.\n",
      "\n",
      "\n",
      "  df['Cost (millions $)'].fillna(df['Cost (millions $)'].mean(), inplace=True)\n"
     ]
    },
    {
     "data": {
      "text/html": [
       "<div>\n",
       "<style scoped>\n",
       "    .dataframe tbody tr th:only-of-type {\n",
       "        vertical-align: middle;\n",
       "    }\n",
       "\n",
       "    .dataframe tbody tr th {\n",
       "        vertical-align: top;\n",
       "    }\n",
       "\n",
       "    .dataframe thead th {\n",
       "        text-align: right;\n",
       "    }\n",
       "</style>\n",
       "<table border=\"1\" class=\"dataframe\">\n",
       "  <thead>\n",
       "    <tr style=\"text-align: right;\">\n",
       "      <th></th>\n",
       "      <th>Energy Source</th>\n",
       "      <th>Energy Consumption (MWh)</th>\n",
       "      <th>Cost (millions $)</th>\n",
       "    </tr>\n",
       "  </thead>\n",
       "  <tbody>\n",
       "    <tr>\n",
       "      <th>0</th>\n",
       "      <td>Solar</td>\n",
       "      <td>1200.0</td>\n",
       "      <td>200.0</td>\n",
       "    </tr>\n",
       "    <tr>\n",
       "      <th>1</th>\n",
       "      <td>Wind</td>\n",
       "      <td>2450.0</td>\n",
       "      <td>400.0</td>\n",
       "    </tr>\n",
       "    <tr>\n",
       "      <th>2</th>\n",
       "      <td>Hydropower</td>\n",
       "      <td>2900.0</td>\n",
       "      <td>250.0</td>\n",
       "    </tr>\n",
       "    <tr>\n",
       "      <th>3</th>\n",
       "      <td>Geothermal</td>\n",
       "      <td>2450.0</td>\n",
       "      <td>150.0</td>\n",
       "    </tr>\n",
       "    <tr>\n",
       "      <th>4</th>\n",
       "      <td>Biomass</td>\n",
       "      <td>2500.0</td>\n",
       "      <td>250.0</td>\n",
       "    </tr>\n",
       "    <tr>\n",
       "      <th>5</th>\n",
       "      <td>Nuclear</td>\n",
       "      <td>3200.0</td>\n",
       "      <td>250.0</td>\n",
       "    </tr>\n",
       "  </tbody>\n",
       "</table>\n",
       "</div>"
      ],
      "text/plain": [
       "  Energy Source  Energy Consumption (MWh)  Cost (millions $)\n",
       "0         Solar                    1200.0              200.0\n",
       "1          Wind                    2450.0              400.0\n",
       "2    Hydropower                    2900.0              250.0\n",
       "3    Geothermal                    2450.0              150.0\n",
       "4       Biomass                    2500.0              250.0\n",
       "5       Nuclear                    3200.0              250.0"
      ]
     },
     "execution_count": 13,
     "metadata": {},
     "output_type": "execute_result"
    }
   ],
   "source": [
    "# Impute missing values with the mean for energy consumption\n",
    "df['Energy Consumption (MWh)'].fillna(df['Energy Consumption (MWh)'].mean(), inplace=True)\n",
    "df['Cost (millions $)'].fillna(df['Cost (millions $)'].mean(), inplace=True)\n",
    "\n",
    "df"
   ]
  },
  {
   "cell_type": "code",
   "execution_count": 14,
   "id": "6b67fc2a-4eb6-438b-af8d-7363e3e0d3b8",
   "metadata": {},
   "outputs": [
    {
     "name": "stderr",
     "output_type": "stream",
     "text": [
      "C:\\Users\\Raghunandan M S\\AppData\\Local\\Temp\\ipykernel_18672\\1748103493.py:2: FutureWarning: DataFrame.fillna with 'method' is deprecated and will raise in a future version. Use obj.ffill() or obj.bfill() instead.\n",
      "  ff_df = df.fillna(method=\"ffill\")\n"
     ]
    },
    {
     "data": {
      "text/html": [
       "<div>\n",
       "<style scoped>\n",
       "    .dataframe tbody tr th:only-of-type {\n",
       "        vertical-align: middle;\n",
       "    }\n",
       "\n",
       "    .dataframe tbody tr th {\n",
       "        vertical-align: top;\n",
       "    }\n",
       "\n",
       "    .dataframe thead th {\n",
       "        text-align: right;\n",
       "    }\n",
       "</style>\n",
       "<table border=\"1\" class=\"dataframe\">\n",
       "  <thead>\n",
       "    <tr style=\"text-align: right;\">\n",
       "      <th></th>\n",
       "      <th>Energy Source</th>\n",
       "      <th>Energy Consumption (MWh)</th>\n",
       "      <th>Cost (millions $)</th>\n",
       "    </tr>\n",
       "  </thead>\n",
       "  <tbody>\n",
       "    <tr>\n",
       "      <th>0</th>\n",
       "      <td>Solar</td>\n",
       "      <td>1200.0</td>\n",
       "      <td>200.0</td>\n",
       "    </tr>\n",
       "    <tr>\n",
       "      <th>1</th>\n",
       "      <td>Wind</td>\n",
       "      <td>2450.0</td>\n",
       "      <td>400.0</td>\n",
       "    </tr>\n",
       "    <tr>\n",
       "      <th>2</th>\n",
       "      <td>Hydropower</td>\n",
       "      <td>2900.0</td>\n",
       "      <td>250.0</td>\n",
       "    </tr>\n",
       "    <tr>\n",
       "      <th>3</th>\n",
       "      <td>Geothermal</td>\n",
       "      <td>2450.0</td>\n",
       "      <td>150.0</td>\n",
       "    </tr>\n",
       "    <tr>\n",
       "      <th>4</th>\n",
       "      <td>Biomass</td>\n",
       "      <td>2500.0</td>\n",
       "      <td>250.0</td>\n",
       "    </tr>\n",
       "    <tr>\n",
       "      <th>5</th>\n",
       "      <td>Nuclear</td>\n",
       "      <td>3200.0</td>\n",
       "      <td>250.0</td>\n",
       "    </tr>\n",
       "  </tbody>\n",
       "</table>\n",
       "</div>"
      ],
      "text/plain": [
       "  Energy Source  Energy Consumption (MWh)  Cost (millions $)\n",
       "0         Solar                    1200.0              200.0\n",
       "1          Wind                    2450.0              400.0\n",
       "2    Hydropower                    2900.0              250.0\n",
       "3    Geothermal                    2450.0              150.0\n",
       "4       Biomass                    2500.0              250.0\n",
       "5       Nuclear                    3200.0              250.0"
      ]
     },
     "execution_count": 14,
     "metadata": {},
     "output_type": "execute_result"
    }
   ],
   "source": [
    "# Forward filling missing values\n",
    "ff_df = df.fillna(method=\"ffill\")\n",
    "ff_df"
   ]
  },
  {
   "cell_type": "code",
   "execution_count": null,
   "id": "b6066946-4aa0-4902-a142-8fa80b46f016",
   "metadata": {},
   "outputs": [],
   "source": [
    "pip install scikit-learn"
   ]
  },
  {
   "cell_type": "code",
   "execution_count": 17,
   "id": "cc189f3e-54de-4866-b6a5-a109afed4426",
   "metadata": {},
   "outputs": [
    {
     "data": {
      "text/html": [
       "<div>\n",
       "<style scoped>\n",
       "    .dataframe tbody tr th:only-of-type {\n",
       "        vertical-align: middle;\n",
       "    }\n",
       "\n",
       "    .dataframe tbody tr th {\n",
       "        vertical-align: top;\n",
       "    }\n",
       "\n",
       "    .dataframe thead th {\n",
       "        text-align: right;\n",
       "    }\n",
       "</style>\n",
       "<table border=\"1\" class=\"dataframe\">\n",
       "  <thead>\n",
       "    <tr style=\"text-align: right;\">\n",
       "      <th></th>\n",
       "      <th>Energy Source</th>\n",
       "      <th>Energy Consumption (MWh)</th>\n",
       "      <th>Cost (millions $)</th>\n",
       "    </tr>\n",
       "  </thead>\n",
       "  <tbody>\n",
       "    <tr>\n",
       "      <th>0</th>\n",
       "      <td>Solar</td>\n",
       "      <td>0.000</td>\n",
       "      <td>0.2</td>\n",
       "    </tr>\n",
       "    <tr>\n",
       "      <th>1</th>\n",
       "      <td>Wind</td>\n",
       "      <td>0.625</td>\n",
       "      <td>1.0</td>\n",
       "    </tr>\n",
       "    <tr>\n",
       "      <th>2</th>\n",
       "      <td>Hydropower</td>\n",
       "      <td>0.850</td>\n",
       "      <td>0.4</td>\n",
       "    </tr>\n",
       "    <tr>\n",
       "      <th>3</th>\n",
       "      <td>Geothermal</td>\n",
       "      <td>0.625</td>\n",
       "      <td>0.0</td>\n",
       "    </tr>\n",
       "    <tr>\n",
       "      <th>4</th>\n",
       "      <td>Biomass</td>\n",
       "      <td>0.650</td>\n",
       "      <td>0.4</td>\n",
       "    </tr>\n",
       "    <tr>\n",
       "      <th>5</th>\n",
       "      <td>Nuclear</td>\n",
       "      <td>1.000</td>\n",
       "      <td>0.4</td>\n",
       "    </tr>\n",
       "  </tbody>\n",
       "</table>\n",
       "</div>"
      ],
      "text/plain": [
       "  Energy Source  Energy Consumption (MWh)  Cost (millions $)\n",
       "0         Solar                     0.000                0.2\n",
       "1          Wind                     0.625                1.0\n",
       "2    Hydropower                     0.850                0.4\n",
       "3    Geothermal                     0.625                0.0\n",
       "4       Biomass                     0.650                0.4\n",
       "5       Nuclear                     1.000                0.4"
      ]
     },
     "execution_count": 17,
     "metadata": {},
     "output_type": "execute_result"
    }
   ],
   "source": [
    "# Data Preprocessing - Normalization\n",
    "from sklearn.preprocessing import MinMaxScaler\n",
    "\n",
    "scaler = MinMaxScaler()\n",
    "df[['Energy Consumption (MWh)', 'Cost (millions $)']] = scaler.fit_transform(\n",
    "    df[['Energy Consumption (MWh)', 'Cost (millions $)']])\n",
    "\n",
    "df"
   ]
  },
  {
   "cell_type": "code",
   "execution_count": 18,
   "id": "1912b008-ef57-472c-80f8-25d4057e2826",
   "metadata": {},
   "outputs": [
    {
     "data": {
      "text/html": [
       "<div>\n",
       "<style scoped>\n",
       "    .dataframe tbody tr th:only-of-type {\n",
       "        vertical-align: middle;\n",
       "    }\n",
       "\n",
       "    .dataframe tbody tr th {\n",
       "        vertical-align: top;\n",
       "    }\n",
       "\n",
       "    .dataframe thead th {\n",
       "        text-align: right;\n",
       "    }\n",
       "</style>\n",
       "<table border=\"1\" class=\"dataframe\">\n",
       "  <thead>\n",
       "    <tr style=\"text-align: right;\">\n",
       "      <th></th>\n",
       "      <th>Energy Source</th>\n",
       "      <th>Energy Consumption (MWh)</th>\n",
       "      <th>Cost (millions $)</th>\n",
       "    </tr>\n",
       "  </thead>\n",
       "  <tbody>\n",
       "    <tr>\n",
       "      <th>0</th>\n",
       "      <td>Solar</td>\n",
       "      <td>-2.005893e+00</td>\n",
       "      <td>-6.546537e-01</td>\n",
       "    </tr>\n",
       "    <tr>\n",
       "      <th>1</th>\n",
       "      <td>Wind</td>\n",
       "      <td>3.563181e-16</td>\n",
       "      <td>1.963961e+00</td>\n",
       "    </tr>\n",
       "    <tr>\n",
       "      <th>2</th>\n",
       "      <td>Hydropower</td>\n",
       "      <td>7.221213e-01</td>\n",
       "      <td>1.817029e-16</td>\n",
       "    </tr>\n",
       "    <tr>\n",
       "      <th>3</th>\n",
       "      <td>Geothermal</td>\n",
       "      <td>3.563181e-16</td>\n",
       "      <td>-1.309307e+00</td>\n",
       "    </tr>\n",
       "    <tr>\n",
       "      <th>4</th>\n",
       "      <td>Biomass</td>\n",
       "      <td>8.023570e-02</td>\n",
       "      <td>1.817029e-16</td>\n",
       "    </tr>\n",
       "    <tr>\n",
       "      <th>5</th>\n",
       "      <td>Nuclear</td>\n",
       "      <td>1.203536e+00</td>\n",
       "      <td>1.817029e-16</td>\n",
       "    </tr>\n",
       "  </tbody>\n",
       "</table>\n",
       "</div>"
      ],
      "text/plain": [
       "  Energy Source  Energy Consumption (MWh)  Cost (millions $)\n",
       "0         Solar             -2.005893e+00      -6.546537e-01\n",
       "1          Wind              3.563181e-16       1.963961e+00\n",
       "2    Hydropower              7.221213e-01       1.817029e-16\n",
       "3    Geothermal              3.563181e-16      -1.309307e+00\n",
       "4       Biomass              8.023570e-02       1.817029e-16\n",
       "5       Nuclear              1.203536e+00       1.817029e-16"
      ]
     },
     "execution_count": 18,
     "metadata": {},
     "output_type": "execute_result"
    }
   ],
   "source": [
    "from sklearn.preprocessing import StandardScaler\n",
    "scaler = StandardScaler()\n",
    "df[['Energy Consumption (MWh)', 'Cost (millions $)']] = scaler.fit_transform(\n",
    "    df[['Energy Consumption (MWh)', 'Cost (millions $)']])\n",
    "df"
   ]
  },
  {
   "cell_type": "markdown",
   "id": "cdbfe870-4e08-47b1-8e78-053d5f3c1b86",
   "metadata": {},
   "source": [
    "## Encoding - one hot encoding"
   ]
  },
  {
   "cell_type": "code",
   "execution_count": 20,
   "id": "137d539a-885b-4f80-a56a-30b69ce6059a",
   "metadata": {},
   "outputs": [
    {
     "name": "stdout",
     "output_type": "stream",
     "text": [
      "   Energy Consumption (MWh)  Cost (millions $)  Energy Source_Biomass  \\\n",
      "0             -2.005893e+00      -6.546537e-01                  False   \n",
      "1              3.563181e-16       1.963961e+00                  False   \n",
      "2              7.221213e-01       1.817029e-16                  False   \n",
      "3              3.563181e-16      -1.309307e+00                  False   \n",
      "4              8.023570e-02       1.817029e-16                   True   \n",
      "5              1.203536e+00       1.817029e-16                  False   \n",
      "\n",
      "   Energy Source_Geothermal  Energy Source_Hydropower  Energy Source_Nuclear  \\\n",
      "0                     False                     False                  False   \n",
      "1                     False                     False                  False   \n",
      "2                     False                      True                  False   \n",
      "3                      True                     False                  False   \n",
      "4                     False                     False                  False   \n",
      "5                     False                     False                   True   \n",
      "\n",
      "   Energy Source_Solar  Energy Source_Wind  \n",
      "0                 True               False  \n",
      "1                False                True  \n",
      "2                False               False  \n",
      "3                False               False  \n",
      "4                False               False  \n",
      "5                False               False  \n"
     ]
    }
   ],
   "source": [
    "ohe_df = pd.get_dummies(df, columns=[\"Energy Source\"])\n",
    "print(ohe_df)"
   ]
  },
  {
   "cell_type": "code",
   "execution_count": 21,
   "id": "b2fbb18c-00a0-4af1-8417-155b5fcf1278",
   "metadata": {},
   "outputs": [
    {
     "data": {
      "text/html": [
       "<div>\n",
       "<style scoped>\n",
       "    .dataframe tbody tr th:only-of-type {\n",
       "        vertical-align: middle;\n",
       "    }\n",
       "\n",
       "    .dataframe tbody tr th {\n",
       "        vertical-align: top;\n",
       "    }\n",
       "\n",
       "    .dataframe thead th {\n",
       "        text-align: right;\n",
       "    }\n",
       "</style>\n",
       "<table border=\"1\" class=\"dataframe\">\n",
       "  <thead>\n",
       "    <tr style=\"text-align: right;\">\n",
       "      <th></th>\n",
       "      <th>Energy Consumption (MWh)</th>\n",
       "      <th>Cost (millions $)</th>\n",
       "      <th>Energy Source_Biomass</th>\n",
       "      <th>Energy Source_Geothermal</th>\n",
       "      <th>Energy Source_Hydropower</th>\n",
       "      <th>Energy Source_Nuclear</th>\n",
       "      <th>Energy Source_Solar</th>\n",
       "      <th>Energy Source_Wind</th>\n",
       "      <th>Consumption per Million $</th>\n",
       "    </tr>\n",
       "  </thead>\n",
       "  <tbody>\n",
       "    <tr>\n",
       "      <th>0</th>\n",
       "      <td>-2.005893e+00</td>\n",
       "      <td>-6.546537e-01</td>\n",
       "      <td>False</td>\n",
       "      <td>False</td>\n",
       "      <td>False</td>\n",
       "      <td>False</td>\n",
       "      <td>True</td>\n",
       "      <td>False</td>\n",
       "      <td>3.064052e+00</td>\n",
       "    </tr>\n",
       "    <tr>\n",
       "      <th>1</th>\n",
       "      <td>3.563181e-16</td>\n",
       "      <td>1.963961e+00</td>\n",
       "      <td>False</td>\n",
       "      <td>False</td>\n",
       "      <td>False</td>\n",
       "      <td>False</td>\n",
       "      <td>False</td>\n",
       "      <td>True</td>\n",
       "      <td>1.814283e-16</td>\n",
       "    </tr>\n",
       "    <tr>\n",
       "      <th>2</th>\n",
       "      <td>7.221213e-01</td>\n",
       "      <td>1.817029e-16</td>\n",
       "      <td>False</td>\n",
       "      <td>False</td>\n",
       "      <td>True</td>\n",
       "      <td>False</td>\n",
       "      <td>False</td>\n",
       "      <td>False</td>\n",
       "      <td>3.974187e+15</td>\n",
       "    </tr>\n",
       "    <tr>\n",
       "      <th>3</th>\n",
       "      <td>3.563181e-16</td>\n",
       "      <td>-1.309307e+00</td>\n",
       "      <td>False</td>\n",
       "      <td>True</td>\n",
       "      <td>False</td>\n",
       "      <td>False</td>\n",
       "      <td>False</td>\n",
       "      <td>False</td>\n",
       "      <td>-2.721424e-16</td>\n",
       "    </tr>\n",
       "    <tr>\n",
       "      <th>4</th>\n",
       "      <td>8.023570e-02</td>\n",
       "      <td>1.817029e-16</td>\n",
       "      <td>True</td>\n",
       "      <td>False</td>\n",
       "      <td>False</td>\n",
       "      <td>False</td>\n",
       "      <td>False</td>\n",
       "      <td>False</td>\n",
       "      <td>4.415764e+14</td>\n",
       "    </tr>\n",
       "    <tr>\n",
       "      <th>5</th>\n",
       "      <td>1.203536e+00</td>\n",
       "      <td>1.817029e-16</td>\n",
       "      <td>False</td>\n",
       "      <td>False</td>\n",
       "      <td>False</td>\n",
       "      <td>True</td>\n",
       "      <td>False</td>\n",
       "      <td>False</td>\n",
       "      <td>6.623646e+15</td>\n",
       "    </tr>\n",
       "  </tbody>\n",
       "</table>\n",
       "</div>"
      ],
      "text/plain": [
       "   Energy Consumption (MWh)  Cost (millions $)  Energy Source_Biomass  \\\n",
       "0             -2.005893e+00      -6.546537e-01                  False   \n",
       "1              3.563181e-16       1.963961e+00                  False   \n",
       "2              7.221213e-01       1.817029e-16                  False   \n",
       "3              3.563181e-16      -1.309307e+00                  False   \n",
       "4              8.023570e-02       1.817029e-16                   True   \n",
       "5              1.203536e+00       1.817029e-16                  False   \n",
       "\n",
       "   Energy Source_Geothermal  Energy Source_Hydropower  Energy Source_Nuclear  \\\n",
       "0                     False                     False                  False   \n",
       "1                     False                     False                  False   \n",
       "2                     False                      True                  False   \n",
       "3                      True                     False                  False   \n",
       "4                     False                     False                  False   \n",
       "5                     False                     False                   True   \n",
       "\n",
       "   Energy Source_Solar  Energy Source_Wind  Consumption per Million $  \n",
       "0                 True               False               3.064052e+00  \n",
       "1                False                True               1.814283e-16  \n",
       "2                False               False               3.974187e+15  \n",
       "3                False               False              -2.721424e-16  \n",
       "4                False               False               4.415764e+14  \n",
       "5                False               False               6.623646e+15  "
      ]
     },
     "execution_count": 21,
     "metadata": {},
     "output_type": "execute_result"
    }
   ],
   "source": [
    "# Feature engineering\n",
    "ohe_df[\"Consumption per Million $\"] = ohe_df['Energy Consumption (MWh)'] / ohe_df['Cost (millions $)']\n",
    "\n",
    "ohe_df"
   ]
  },
  {
   "cell_type": "code",
   "execution_count": null,
   "id": "aaf3359b-1280-443e-903a-98016a59d806",
   "metadata": {},
   "outputs": [],
   "source": []
  }
 ],
 "metadata": {
  "kernelspec": {
   "display_name": "Python 3 (ipykernel)",
   "language": "python",
   "name": "python3"
  },
  "language_info": {
   "codemirror_mode": {
    "name": "ipython",
    "version": 3
   },
   "file_extension": ".py",
   "mimetype": "text/x-python",
   "name": "python",
   "nbconvert_exporter": "python",
   "pygments_lexer": "ipython3",
   "version": "3.12.8"
  }
 },
 "nbformat": 4,
 "nbformat_minor": 5
}
